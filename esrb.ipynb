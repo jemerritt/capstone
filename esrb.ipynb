{
 "cells": [
  {
   "cell_type": "markdown",
   "id": "4045fa89",
   "metadata": {},
   "source": [
    "# ESRB Rating Prediction System"
   ]
  },
  {
   "cell_type": "code",
   "execution_count": 1,
   "id": "15877716",
   "metadata": {},
   "outputs": [
    {
     "name": "stdout",
     "output_type": "stream",
     "text": [
      "0.859402460456942\n",
      "0.875219683655536\n"
     ]
    }
   ],
   "source": [
    "import pandas as pd\n",
    "import ipywidgets\n",
    "from matplotlib import pyplot\n",
    "from pandas.plotting import scatter_matrix\n",
    "from sklearn import linear_model, metrics, model_selection, svm\n",
    "url = \"https://raw.githubusercontent.com/jemerritt/capstone/main/esrb.csv\"\n",
    "\n",
    "df = pd.read_csv(url)\n",
    "\n",
    "#df.hist()\n",
    "#pyplot.show()\n",
    "\n",
    "#scatter_matrix(df)\n",
    "\n",
    "mylog_model = linear_model.LogisticRegression()\n",
    "mysvm_model = svm.SVC()\n",
    "\n",
    "y = df.values[:,32]\n",
    "X = df.values[:,1:32]\n",
    "X_train, X_test, y_train, y_test = model_selection.train_test_split(X, y, test_size=0.3)\n",
    "\n",
    "mylog_model.fit(X_train, y_train)\n",
    "mysvm_model.fit(X_train, y_train)\n",
    "\n",
    "y_pred_log  = mylog_model.predict(X_test)\n",
    "y_pred_svm  = mysvm_model.predict(X_test)\n",
    "\n",
    "print(metrics.accuracy_score(y_test, y_pred_log))\n",
    "print(metrics.accuracy_score(y_test, y_pred_svm))\n",
    "\n",
    "#cm = metrics.confusion_matrix(y_test, y_pred_svm, labels=mysvm_model.classes_)\n",
    "#disp = metrics.ConfusionMatrixDisplay(confusion_matrix=cm, display_labels=mysvm_model.classes_)\n",
    "#disp.plot();"
   ]
  },
  {
   "cell_type": "code",
   "execution_count": 2,
   "id": "37ccb0eb",
   "metadata": {},
   "outputs": [
    {
     "data": {
      "application/vnd.jupyter.widget-view+json": {
       "model_id": "52e03cc0d4ca4d2f9a771edfe02674cc",
       "version_major": 2,
       "version_minor": 0
      },
      "text/plain": [
       "HBox(children=(Checkbox(value=False, description='Alcohol Reference', style=DescriptionStyle(description_width…"
      ]
     },
     "metadata": {},
     "output_type": "display_data"
    },
    {
     "data": {
      "application/vnd.jupyter.widget-view+json": {
       "model_id": "e5aea93f616e4068a27679ab79319003",
       "version_major": 2,
       "version_minor": 0
      },
      "text/plain": [
       "interactive(children=(Button(description='Run Interact', style=ButtonStyle()), Output()), _dom_classes=('widge…"
      ]
     },
     "metadata": {},
     "output_type": "display_data"
    },
    {
     "data": {
      "text/plain": [
       "<function __main__.predict_rating()>"
      ]
     },
     "execution_count": 2,
     "metadata": {},
     "output_type": "execute_result"
    }
   ],
   "source": [
    "from ipywidgets import Layout, interact, interact_manual, fixed\n",
    "\n",
    "tag_a_r = ipywidgets.Checkbox(description='Alcohol Reference', style={'description_width': 'initial'})\n",
    "tag_a_b = ipywidgets.Checkbox(description='Animated Blood', style={'description_width': 'initial'})\n",
    "tag_b = ipywidgets.Checkbox(description='Blood', style={'description_width': 'initial'})\n",
    "tag_b_a_g = ipywidgets.Checkbox(description='Blood and Gore', style={'description_width': 'initial'})\n",
    "tag_c_v = ipywidgets.Checkbox(description='Cartoon Violence', style={'description_width': 'initial'})\n",
    "tag_c_h = ipywidgets.Checkbox(description='Crude Humor', style={'description_width': 'initial'})\n",
    "tag_d_r = ipywidgets.Checkbox(description='Drug References', style={'description_width': 'initial'})\n",
    "tag_f_v = ipywidgets.Checkbox(description='Fantasy Violence', style={'description_width': 'initial'})\n",
    "tag_i_v = ipywidgets.Checkbox(description='Intense Violence', style={'description_width': 'initial'})\n",
    "tag_l = ipywidgets.Checkbox(description='Language', style={'description_width': 'initial'})\n",
    "tag_ly = ipywidgets.Checkbox(description='Lyrics', style={'description_width': 'initial'})\n",
    "tag_m_h = ipywidgets.Checkbox(description='Mature Humor', style={'description_width': 'initial'})\n",
    "tag_m_b = ipywidgets.Checkbox(description='Mild Blood', style={'description_width': 'initial'})\n",
    "tag_m_c_v = ipywidgets.Checkbox(description='Mild Cartoon Violence', style={'description_width': 'initial'})\n",
    "tag_m_f_v = ipywidgets.Checkbox(description='Mild Fantasy Violence', style={'description_width': 'initial'})\n",
    "tag_m_l = ipywidgets.Checkbox(description='Mild Language', style={'description_width': 'initial'})\n",
    "tag_m_ly = ipywidgets.Checkbox(description='Mild Lyrics', style={'description_width': 'initial'})\n",
    "tag_m_s_t = ipywidgets.Checkbox(description='Mild Suggestive Themes', style={'description_width': 'initial'})\n",
    "tag_m_v = ipywidgets.Checkbox(description='Mild Violence', style={'description_width': 'initial'})\n",
    "tag_n_d = ipywidgets.Checkbox(description='No Descriptors', style={'description_width': 'initial'})\n",
    "tag_n = ipywidgets.Checkbox(description='Nudity', style={'description_width': 'initial'})\n",
    "tag_p_n = ipywidgets.Checkbox(description='Partial Nudity', style={'description_width': 'initial'})\n",
    "tag_s_c = ipywidgets.Checkbox(description='Sexual Content', style={'description_width': 'initial'})\n",
    "tag_se_t = ipywidgets.Checkbox(description='Sexual Themes', style={'description_width': 'initial'})\n",
    "tag_s_g = ipywidgets.Checkbox(description='Simulated Gambling', style={'description_width': 'initial'})\n",
    "tag_s_l = ipywidgets.Checkbox(description='Strog Language', style={'description_width': 'initial'})\n",
    "tag_s_s_c = ipywidgets.Checkbox(description='Strong Sexual Content', style={'description_width': 'initial'})\n",
    "tag_s_t = ipywidgets.Checkbox(description='Suggestive Themes', style={'description_width': 'initial'})\n",
    "tag_u_o_a = ipywidgets.Checkbox(description='Use of Alcohol', style={'description_width': 'initial'})\n",
    "tag_u_o_d_a_a = ipywidgets.Checkbox(description='Use of Drugs and Alcohol', style={'description_width': 'initial'})\n",
    "tag_v = ipywidgets.Checkbox(description='Violence', style={'description_width': 'initial'})\n",
    "\n",
    "box_layout = ipywidgets.Layout(display='inline-flex',                               \n",
    "                               flex_flow='wrap',\n",
    "                               align_items='stretch',\n",
    "                               border='solid',\n",
    "                               width='100%')\n",
    "\n",
    "cbs = ipywidgets.HBox([tag_a_r, tag_a_b, tag_b, tag_b_a_g, tag_c_v, tag_c_h, tag_d_r, tag_f_v, tag_i_v, tag_l, tag_ly, tag_m_h,\n",
    "                     tag_m_b, tag_m_c_v, tag_m_f_v, tag_m_l, tag_m_ly, tag_m_s_t, tag_m_v, tag_n_d, tag_n, tag_p_n, tag_s_c,\n",
    "                     tag_se_t, tag_s_g, tag_s_l, tag_s_s_c, tag_s_t, tag_u_o_a, tag_u_o_d_a_a, tag_v], layout=box_layout)\n",
    "\n",
    "display(cbs)\n",
    "\n",
    "def predict_rating():\n",
    "    values = [] \n",
    "    a_r = 1 if tag_a_r.value == True else 0\n",
    "    values.append(a_r)\n",
    "    a_b = 1 if tag_a_b.value == True else 0\n",
    "    values.append(a_b)\n",
    "    b = 1 if tag_b.value == True else 0\n",
    "    values.append(b)\n",
    "    b_a_g = 1 if tag_b_a_g.value == True else 0\n",
    "    values.append(b_a_g)\n",
    "    c_v = 1 if tag_c_v.value == True else 0\n",
    "    values.append(c_v)\n",
    "    c_h = 1 if tag_c_h.value == True else 0\n",
    "    values.append(c_h)\n",
    "    d_r = 1 if tag_d_r.value == True else 0\n",
    "    values.append(d_r)\n",
    "    f_v = 1 if tag_f_v.value == True else 0\n",
    "    values.append(f_v)\n",
    "    i_v = 1 if tag_i_v.value == True else 0\n",
    "    values.append(i_v)\n",
    "    l = 1 if tag_l.value == True else 0\n",
    "    values.append(l)\n",
    "    ly = 1 if tag_ly.value == True else 0\n",
    "    values.append(ly)\n",
    "    m_h = 1 if tag_m_h.value == True else 0\n",
    "    values.append(m_h)\n",
    "    m_b = 1 if tag_m_b.value == True else 0\n",
    "    values.append(m_b)\n",
    "    m_c_v = 1 if tag_m_c_v.value == True else 0\n",
    "    values.append(m_c_v)\n",
    "    m_f_v = 1 if tag_m_f_v.value == True else 0\n",
    "    values.append(m_f_v)\n",
    "    m_l = 1 if tag_m_l.value == True else 0\n",
    "    values.append(m_l)\n",
    "    m_ly = 1 if tag_m_ly.value == True else 0\n",
    "    values.append(m_ly)\n",
    "    m_s_t = 1 if tag_m_s_t.value == True else 0\n",
    "    values.append(m_s_t)\n",
    "    m_v = 1 if tag_m_v.value == True else 0\n",
    "    values.append(m_v)\n",
    "    n_d = 1 if tag_n_d.value == True else 0\n",
    "    values.append(n_d)\n",
    "    n = 1 if tag_n.value == True else 0\n",
    "    values.append(n)\n",
    "    p_n = 1 if tag_p_n.value == True else 0\n",
    "    values.append(p_n)\n",
    "    s_c = 1 if tag_s_c.value == True else 0\n",
    "    values.append(s_c)\n",
    "    se_t = 1 if tag_se_t.value == True else 0\n",
    "    values.append(se_t)\n",
    "    s_g = 1 if tag_s_g.value == True else 0\n",
    "    values.append(s_g)\n",
    "    s_l = 1 if tag_s_l.value == True else 0\n",
    "    values.append(s_l)\n",
    "    s_s_c = 1 if tag_s_s_c.value == True else 0\n",
    "    values.append(s_s_c)\n",
    "    s_t = 1 if tag_s_t.value == True else 0\n",
    "    values.append(s_t)\n",
    "    u_o_a = 1 if tag_u_o_a.value == True else 0\n",
    "    values.append(u_o_a)\n",
    "    u_o_d_a_a = 1 if tag_u_o_d_a_a.value == True else 0\n",
    "    values.append(u_o_d_a_a)\n",
    "    v = 1 if tag_v.value == True else 0\n",
    "    values.append(v)\n",
    "    print("Predicted Rating: ", mysvm_model.predict([values]))\n",
    "    print(values)\n",
    "\n",
    "interact_manual(predict_rating)"
   ]
  },
  {
   "cell_type": "code",
   "execution_count": null,
   "id": "788c669c",
   "metadata": {},
   "outputs": [],
   "source": []
  }
 ],
 "metadata": {
  "kernelspec": {
   "display_name": "Python 3 (ipykernel)",
   "language": "python",
   "name": "python3"
  },
  "language_info": {
   "codemirror_mode": {
    "name": "ipython",
    "version": 3
   },
   "file_extension": ".py",
   "mimetype": "text/x-python",
   "name": "python",
   "nbconvert_exporter": "python",
   "pygments_lexer": "ipython3",
   "version": "3.10.9"
  }
 },
 "nbformat": 4,
 "nbformat_minor": 5
}
